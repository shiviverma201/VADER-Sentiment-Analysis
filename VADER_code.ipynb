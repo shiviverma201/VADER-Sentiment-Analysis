{
 "cells": [
  {
   "cell_type": "code",
   "execution_count": null,
   "metadata": {},
   "outputs": [],
   "source": [
    "import pandas as pd\n",
    "exl=pd.read_excel('emoji_excel.xlsx')\n",
    "unicode_name=exl['Unicode Name']\n",
    "\n",
    "exl['VADER Negative']=\"\"\n",
    "exl['VADER Neutral']=\"\"\n",
    "exl['VADER Positive']=\"\"\n",
    "exl['VADER Sentiment Score']=\"\"\n",
    "\n",
    "from vaderSentiment.vaderSentiment import SentimentIntensityAnalyzer \n",
    "  \n",
    "# function to calculate sentiment score of the emoji \n",
    "def sentiment_scores(sentence): \n",
    "  \n",
    "    # Create a SentimentIntensityAnalyzer object. \n",
    "    sid_obj = SentimentIntensityAnalyzer() \n",
    "  \n",
    "    # polarity_scores method of SentimentIntensityAnalyzer \n",
    "    # oject gives a sentiment dictionary. \n",
    "    # which contains pos, neg, neu, and compound scores. \n",
    "    sentiment_dict = sid_obj.polarity_scores(sentence)\n",
    "\n",
    "    return sentiment_dict      \n",
    "\n",
    "def overall_score(pos,neg):\n",
    "    score=pos-neg\n",
    "    return score\n",
    "\n",
    "# Driver code \n",
    "if __name__ == \"__main__\" : \n",
    "    \n",
    "    for i in range(len(unicode_name)): \n",
    "        sentence =unicode_name[i]\n",
    "        scores=sentiment_scores(sentence)\n",
    "        exl['VADER Negative'][i]=scores['neg'] \n",
    "        exl['VADER Neutral'][i]=scores['neu']\n",
    "        exl['VADER Positive'][i]=scores['pos']\n",
    "        pos=scores['pos']\n",
    "        neg=scores['neg']\n",
    "        emoji_score=overall_score(pos,neg)\n",
    "        exl['VADER Sentiment Score'][i]=emoji_score\n",
    "        \n",
    "exl.to_excel('VADER_Sentimentscore.xlsx')        "
   ]
  }
 ],
 "metadata": {
  "kernelspec": {
   "display_name": "Python 3",
   "language": "python",
   "name": "python3"
  },
  "language_info": {
   "codemirror_mode": {
    "name": "ipython",
    "version": 3
   },
   "file_extension": ".py",
   "mimetype": "text/x-python",
   "name": "python",
   "nbconvert_exporter": "python",
   "pygments_lexer": "ipython3",
   "version": "3.6.4"
  }
 },
 "nbformat": 4,
 "nbformat_minor": 2
}
